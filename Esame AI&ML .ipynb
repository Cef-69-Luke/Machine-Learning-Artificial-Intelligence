{
 "cells": [
  {
   "cell_type": "code",
   "execution_count": 1,
   "id": "88e4bb87",
   "metadata": {},
   "outputs": [],
   "source": [
    "#Librerie \n",
    "import pandas as pd #gestione dati \n",
    "import numpy as np #manipolazione dati \n",
    "import os #lavori con directory"
   ]
  },
  {
   "cell_type": "code",
   "execution_count": null,
   "id": "56446296",
   "metadata": {},
   "outputs": [],
   "source": [
    "os.getcwd()"
   ]
  },
  {
   "cell_type": "code",
   "execution_count": 2,
   "id": "c32274a0",
   "metadata": {},
   "outputs": [],
   "source": [
    "#Attori Originali \n",
    "att_o = pd.read_excel('/Users/lucacefaloni/Documents/EAIeMLCefaloni/Dati/Manipolazione Dati/Originali Attori Suburra1.xlsx')\n",
    "#Location Originali \n",
    "loc_o = pd.read_excel('/Users/lucacefaloni/Documents/EAIeMLCefaloni/Dati/Manipolazione Dati/Originali Location Suburra1.xlsx')\n",
    "\n",
    "#Attori + Location Percentuale \n",
    "a_l_p = pd.read_excel('/Users/lucacefaloni/Documents/EAIeMLCefaloni/Dati/Manipolazione Dati/Att e Loc Perc.xlsx')\n",
    "\n",
    "#Attori e Location CSV\n",
    "csv = pd.read_csv('/Users/lucacefaloni/Documents/EAIeMLCefaloni/Dati/Manipolazione Dati/Att e Loc Perc.csv')"
   ]
  },
  {
   "cell_type": "markdown",
   "id": "a471c1d9",
   "metadata": {},
   "source": [
    "Analisi Generale "
   ]
  },
  {
   "cell_type": "code",
   "execution_count": null,
   "id": "7e57f983",
   "metadata": {},
   "outputs": [],
   "source": [
    "#ANALISI GENERALE BATUTTE \n",
    "\n",
    "import matplotlib.pylab as plt #graficare dati \n",
    "fig, ax = plt.subplots(1, 1, figsize=(10,6)) # make the figure with the size 10 x 6 inches\n",
    "fig.suptitle('ANADAMENTO BATTUTE ') #titolo grafico \n",
    "\n",
    "\n",
    "#dati per attore\n",
    "Ep = att_o['Episodi']\n",
    "Aur = att_o['Aureliano Adami ']\n",
    "Sar = att_o['Sara Monaschi ']\n",
    "Gab = att_o['Gabriele \"Lele\" Marchilli']\n",
    "Sam = att_o['Valerio Samurai ']\n",
    "Spa = att_o['Alberto \"Spadino\" Anacleti ']\n",
    "Cin = att_o['Amedeo Cinaglia']\n",
    "Liv = att_o['Livia Adami ']\n",
    "\n",
    "\n",
    "# Etichette da utilizzare per ogni riga\n",
    "line_labels = [\"Aureliano Adami\",\"Sara Monaschi\", \"Lele\", \"Samurai\", \"Spadino\", \"Cinaglia\", \"Livia Adami\"]\n",
    "\n",
    "#Crea le linee, assegnando a ciascuna colori diversi.\n",
    "# Memorizza anche gli oggetti linea creati\n",
    "l1 = ax.plot(Ep, Aur, label=\"Aureliano Adami\")[0]\n",
    "l2 = ax.plot(Ep, Sar, label=\"Sara Monaschi\")[0]\n",
    "l3 = ax.plot(Ep, Gab,label=\"Lele\")[0]\n",
    "l4 = ax.plot(Ep, Sam, label=\"Samurai\")[0]\n",
    "l5 = ax.plot(Ep, Spa, label=\"Spadino\")[0]\n",
    "l6 = ax.plot(Ep, Cin,label=\"Amedeo Cinaglia\")[0]\n",
    "l7 = ax.plot(Ep, Liv, label=\"Livia Adami\")[0]\n",
    "\n",
    "fig.legend([l1, l2, l3, l4, l5, l6, l7],# Elenco degli oggetti linea\n",
    "           labels= line_labels,       # Le etichette per ogni riga\n",
    "           loc=\"center right\",         # Aggiungi un po' di spazio attorno alla casella della legenda\n",
    "           title=\"Attori più frequenti\")      # Titolo per la legenda\n",
    "\n",
    "# Regola il fattore di scala per adattare il testo della legenda completamente al di fuori della trama \n",
    "# (un valore più piccolo comporta più spazio per la legenda)\n",
    "plt.subplots_adjust(right=0.85)\n",
    "\n",
    "plt.show()\n"
   ]
  },
  {
   "cell_type": "code",
   "execution_count": null,
   "id": "2b24f124",
   "metadata": {},
   "outputs": [],
   "source": [
    "#ANALISI GENERALE Location \n",
    "\n",
    "import matplotlib.pylab as plt\n",
    "fig, ax = plt.subplots(1, 1, figsize=(10,6)) # crea la figura con le dimensioni 10 x 6 pollici\n",
    "fig.suptitle('ANADAMENTO LOCATION ')\n",
    "\n",
    "#dta\n",
    "rc = loc_o['Roma centro ']\n",
    "cn = loc_o['Casa Anacleti ']\n",
    "pr = loc_o['Periferia romana ']\n",
    "vt = loc_o['Vaticano']\n",
    "ca = loc_o['Casa Adami']\n",
    "sa = loc_o['Stabilimento Adami ']\n",
    "ha = loc_o['Chiosco Adami']\n",
    "\n",
    "\n",
    "# Etichette da utilizzare per ogni riga\n",
    "line_labels = [\"Roma Centro\",\"Casa Anacleti\", \"Periferia romana\", \"Vaticano\", \"Casa Adami\", \"Stabilimento Adami\", \"Chiosco Adami\"]\n",
    "\n",
    "#Crea le linee, assegnando a ciascuna colori diversi.\n",
    "# Memorizza anche gli oggetti linea creati\n",
    "l1 = ax.plot(Ep, rc, label=\"Roma Centro\")[0]\n",
    "l2 = ax.plot(Ep, cn, label=\"Casa Anacleti\")[0]\n",
    "l3 = ax.plot(Ep, pr,label=\"Periferia romana\")[0]\n",
    "l4 = ax.plot(Ep, vt, label=\"Vaticano\")[0]\n",
    "l5 = ax.plot(Ep, ca, label=\"Casa Adami\")[0]\n",
    "l6 = ax.plot(Ep, sa,label=\"Stabilimento Adami\")[0]\n",
    "l7 = ax.plot(Ep, ha, label=\"Chiosco Adami\")[0]\n",
    "\n",
    "fig.legend([l1, l2, l3, l4, l5, l6, l7],              # Elenco degli oggetti linea\n",
    "           labels= line_labels,       # Le etichette per ogni riga\n",
    "           loc=\"center right\",         # Aggiungi un po' di spazio attorno alla casella della legenda\n",
    "           title=\"Location più frequenti\")       # Titolo per la legenda\n",
    "\n",
    "# Regola il fattore di scala per adattare il testo della legenda completamente al di fuori della trama \n",
    "# (un valore più piccolo comporta più spazio per la legenda)\n",
    "plt.subplots_adjust(right=0.85)\n",
    "\n",
    "plt.show()"
   ]
  },
  {
   "cell_type": "markdown",
   "id": "a64c93b1",
   "metadata": {},
   "source": [
    "# Regressione Lineare totale "
   ]
  },
  {
   "cell_type": "code",
   "execution_count": 4,
   "id": "b6f85632",
   "metadata": {
    "scrolled": true
   },
   "outputs": [
    {
     "name": "stdout",
     "output_type": "stream",
     "text": [
      "Intercept:  6.387666645252178\n",
      "Coefficients:\n"
     ]
    },
    {
     "data": {
      "text/plain": [
       "[('Aureliano Adami ', 3.537766098197399),\n",
       " ('Alberto Spadino Anacleti ', 6.003796503795959),\n",
       " ('Gabriele Lele Marchilli', -4.6126234498300684),\n",
       " ('Amedeo Cinaglia', -3.54098946040051),\n",
       " ('Sara Monaschi ', 0.5474866613928244),\n",
       " ('Manfredi Anacleti ', 3.337748740104704),\n",
       " ('Livia Adami ', 1.3427809430541104),\n",
       " ('Tullio Adami ', 2.4749113304171297),\n",
       " ('Monsignor Theodosiou  ', 0.26246508269601965),\n",
       " ('Contessa Sveva Della Rocca Croce ', -0.17206601122368687),\n",
       " ('Angelica Sale ', 0.8235541451362441),\n",
       " ('Franco Marchilli ', -0.9265761775371256),\n",
       " ('Adelaide Anacleti ', -0.6455022149774488),\n",
       " ('Cardinale Cosimo Giunti ', -0.10836803566677544),\n",
       " ('Sandro Monaschi ', 0.34231050211797753),\n",
       " ('Gabriella', 0.6898025125078191),\n",
       " ('Isabelle Mbamba', -0.858435419021091),\n",
       " ('Stefano Forsini', -0.17455236398400237),\n",
       " ('Gianni Taccon ', -0.0815003274817121),\n",
       " ('Alice ', -0.19415908359149414),\n",
       " ('Saverio Boiardo Guerri ', 0.32245420908133826),\n",
       " ('Romolo Lucci ', -0.7193967943506923),\n",
       " ('Cugino Spadino Boris', 0.26570606302403466),\n",
       " ('Giacomo Finucci', 0.16318296471642735),\n",
       " ('Valerio Samurai ', 6.227684656700157),\n",
       " ('Aldo braccio destro manfredi', 0.16655490039496001),\n",
       " ('Vincenzo Sale', 0.009029732348025968),\n",
       " ('Ferdinando Badali', 0.06137321736957424),\n",
       " ('Madre Samurai', 0.030875586924131657),\n",
       " ('Ezio Quirino ', -0.7278523909847745),\n",
       " ('Mara Guagli (Compagna Franco)', 2.4140156480986774e-05),\n",
       " ('Cardinale Pascagni', -0.10210046078641472),\n",
       " ('Nadia Gravone', 0.6405610489503069),\n",
       " ('Adriano Latelli', 0.7622873490924513),\n",
       " ('Cristiana Massoli', 0.44617115708625077),\n",
       " ('Teo', -0.05105023039320736),\n",
       " ('Alex', -0.035728134868766775),\n",
       " ('Cardinale Nascari', 0.6467023909531697),\n",
       " ('Casa contessa ', -0.29826169906046784),\n",
       " ('Stabilimento Adami ', 1.3794923806438177),\n",
       " ('Chiosco Adami', -1.9499528722252029),\n",
       " ('Casa Prostituta(Termini)', -0.9007876100209059),\n",
       " ('Vela di Calatrua', -0.1316589744192309),\n",
       " ('Eur', 0.6213654138938666),\n",
       " ('Palestra Aureliano', 0.20200262627998322),\n",
       " ('Vaticano', -0.06819406147014517),\n",
       " ('Parlamento ', -1.0517199952973786),\n",
       " ('Comune ', -0.5448249450618768),\n",
       " ('Ponte angelo ', 0.0038598898683963045),\n",
       " ('Casa Anacleti ', 6.538348590014766),\n",
       " ('Maneggio Samurai ', -4.845383166728491),\n",
       " ('Pompa di Benziana Samurai ', -0.19023652130788138),\n",
       " ('Trasporti', -0.7098809125959012),\n",
       " ('Casa Festa', 0.30230053931072864),\n",
       " ('Locale Adami', -0.03250697594090696),\n",
       " ('Roma centro ', -1.7952214775118716),\n",
       " ('Periferia romana ', -0.37525021800965774),\n",
       " ('Casa Monaschi ', -0.2332909903471081),\n",
       " ('Casa Marchilli ', -2.186734696318217),\n",
       " ('Casa Sale', -0.2468052426041733),\n",
       " ('Casa Cinaglia', 0.980704756753286),\n",
       " ('Casa Theodosiou  ', 0.15481108322064335),\n",
       " ('Locale Anacleti', 0.29396643100849207),\n",
       " ('Casa Madre Samurai', 0.02243677780474025),\n",
       " ('Casa Adami', 2.4849798289929996),\n",
       " ('Distretto di Polizia Roma ', 3.661137486569265),\n",
       " ('Casa Finucci ', -0.6066697329306758),\n",
       " ('Monastero ', -1.4872921643726889),\n",
       " ('Casa Madre Aureliano', -0.6114216392257186),\n",
       " ('Negozio Alice', 0.07134732311231587),\n",
       " ('Ostia', 1.9882237838987975),\n",
       " ('Radio Roma Sport', -0.22229267280380158),\n",
       " ('Ufficio Stampa Cinagia', -0.08004288227542594),\n",
       " ('Casa Teo', -0.45751430521504477),\n",
       " ('Distretto di Polizia Ostia', 0.0006646408838379414)]"
      ]
     },
     "execution_count": 4,
     "metadata": {},
     "output_type": "execute_result"
    }
   ],
   "source": [
    "from sklearn.model_selection import train_test_split\n",
    "import pandas\n",
    "from sklearn import linear_model\n",
    "import numpy as np\n",
    "from sklearn.linear_model import LinearRegression\n",
    "\n",
    "#Variabili Indipendenti \n",
    "X = a_l_p[[\"Aureliano Adami \", \"Alberto Spadino Anacleti \",\n",
    "             \"Gabriele Lele Marchilli\", \"Amedeo Cinaglia\",\n",
    "             \"Sara Monaschi \",\"Manfredi Anacleti \",\"Livia Adami \",\"Tullio Adami \",\n",
    "             \"Monsignor Theodosiou  \" ,\"Contessa Sveva Della Rocca Croce \",\"Angelica Sale \",\n",
    "             \"Franco Marchilli \",\"Adelaide Anacleti \",\"Cardinale Cosimo Giunti \" ,\"Sandro Monaschi \",\n",
    "             \"Gabriella\" , \"Isabelle Mbamba\", \"Stefano Forsini\" ,\"Gianni Taccon \", \"Alice \", \"Saverio Boiardo Guerri \",\n",
    "             \"Romolo Lucci \", \"Cugino Spadino Boris\",\"Giacomo Finucci\" ,\"Valerio Samurai \",\"Aldo braccio destro manfredi\",\n",
    "            \"Vincenzo Sale\",\"Ferdinando Badali\" , \"Madre Samurai\" , \"Ezio Quirino \",\"Mara Guagli (Compagna Franco)\",\n",
    "             \"Cardinale Pascagni\"  ,\"Nadia Gravone\",\"Adriano Latelli\",\"Cristiana Massoli\" ,\"Teo\" ,\"Alex\" ,\"Cardinale Nascari\" ,\n",
    "             \"Casa contessa \", \"Stabilimento Adami \",\"Chiosco Adami\" ,\"Casa Prostituta(Termini)\",\"Vela di Calatrua\",\"Eur\",\"Palestra Aureliano\",\n",
    "             \"Vaticano\", \"Parlamento \",\"Comune \"   ,\"Ponte angelo \" ,\"Casa Anacleti \" , \"Maneggio Samurai \"   ,\"Pompa di Benziana Samurai \",\"Trasporti\" ,\n",
    "             \"Casa Festa\" ,\"Locale Adami\"  ,\"Roma centro \"  ,\"Periferia romana \"  ,\"Casa Monaschi \"  ,\"Casa Marchilli \" ,\"Casa Sale\",\"Casa Cinaglia\"  ,\"Casa Theodosiou  \" ,\n",
    "             \"Locale Anacleti\",\"Casa Madre Samurai\",\"Casa Adami\",\"Distretto di Polizia Roma \" , \"Casa Finucci \" ,\"Monastero \" ,\"Casa Madre Aureliano\",\"Negozio Alice\" ,\"Ostia\",\n",
    "             \"Radio Roma Sport\",\"Ufficio Stampa Cinagia\", \"Casa Teo\", \"Distretto di Polizia Ostia\"]]\n",
    "#variabile indipendete \n",
    "y = a_l_p[\"Indice IMDb\"]\n",
    "\n",
    "#Creazione dataset di traning e di testing \n",
    "x_train, x_test, y_train, y_test = train_test_split(X, y, test_size = 0.2, random_state = 100)\n",
    "\n",
    "#Creazione modello lineare \n",
    "mlr = LinearRegression()  \n",
    "mlr.fit(x_train, y_train) #fittare il modello \n",
    "#risultati modello \n",
    "print(\"Intercept: \", mlr.intercept_)\n",
    "print(\"Coefficients:\")\n",
    "list(zip(X, mlr.coef_))#lista dei risultati"
   ]
  },
  {
   "cell_type": "code",
   "execution_count": 5,
   "id": "32156900",
   "metadata": {},
   "outputs": [
    {
     "name": "stdout",
     "output_type": "stream",
     "text": [
      "Prediction for test set: [7.59487547 7.10274217 7.70799929]\n"
     ]
    },
    {
     "data": {
      "text/html": [
       "<div>\n",
       "<style scoped>\n",
       "    .dataframe tbody tr th:only-of-type {\n",
       "        vertical-align: middle;\n",
       "    }\n",
       "\n",
       "    .dataframe tbody tr th {\n",
       "        vertical-align: top;\n",
       "    }\n",
       "\n",
       "    .dataframe thead th {\n",
       "        text-align: right;\n",
       "    }\n",
       "</style>\n",
       "<table border=\"1\" class=\"dataframe\">\n",
       "  <thead>\n",
       "    <tr style=\"text-align: right;\">\n",
       "      <th></th>\n",
       "      <th>Actual value</th>\n",
       "      <th>Predicted value</th>\n",
       "    </tr>\n",
       "  </thead>\n",
       "  <tbody>\n",
       "    <tr>\n",
       "      <th>9</th>\n",
       "      <td>8.5</td>\n",
       "      <td>7.594875</td>\n",
       "    </tr>\n",
       "    <tr>\n",
       "      <th>6</th>\n",
       "      <td>7.8</td>\n",
       "      <td>7.102742</td>\n",
       "    </tr>\n",
       "    <tr>\n",
       "      <th>1</th>\n",
       "      <td>7.8</td>\n",
       "      <td>7.707999</td>\n",
       "    </tr>\n",
       "  </tbody>\n",
       "</table>\n",
       "</div>"
      ],
      "text/plain": [
       "   Actual value  Predicted value\n",
       "9           8.5         7.594875\n",
       "6           7.8         7.102742\n",
       "1           7.8         7.707999"
      ]
     },
     "execution_count": 5,
     "metadata": {},
     "output_type": "execute_result"
    }
   ],
   "source": [
    "#predizione del modello di test \n",
    "y_pred_mlr= mlr.predict(x_test)\n",
    "#Print dati previsti \n",
    "print(\"Prediction for test set: {}\".format(y_pred_mlr))\n",
    "\n",
    "#Valore effettivo e valore previsto\n",
    "mlr_diff = pd.DataFrame({'Actual value': y_test, 'Predicted value': y_pred_mlr})\n",
    "mlr_diff.head()"
   ]
  },
  {
   "cell_type": "code",
   "execution_count": 6,
   "id": "86beba32",
   "metadata": {},
   "outputs": [
    {
     "name": "stdout",
     "output_type": "stream",
     "text": [
      "R squared: -48.88\n",
      "Mean Absolute Error: 0.5647943553875828\n",
      "Mean Square Error: 0.437961007708124\n",
      "Root Mean Square Error: 0.6617862250818795\n"
     ]
    }
   ],
   "source": [
    "#Valutazione modello \n",
    "from sklearn import metrics\n",
    "meanAbErr = metrics.mean_absolute_error(y_test, y_pred_mlr) #calcolo errore assoluto medio \n",
    "meanSqErr = metrics.mean_squared_error(y_test, y_pred_mlr) #calcolo errore quadratico medio\n",
    "rootMeanSqErr = np.sqrt(metrics.mean_squared_error(y_test, y_pred_mlr)) #calcolo radice dell'errore quadratico\n",
    "print('R squared: {:.2f}'.format(mlr.score(X,y)*100))\n",
    "print('Mean Absolute Error:', meanAbErr)\n",
    "print('Mean Square Error:', meanSqErr)\n",
    "print('Root Mean Square Error:', rootMeanSqErr)"
   ]
  },
  {
   "cell_type": "markdown",
   "id": "9c015d6c",
   "metadata": {},
   "source": [
    "# Regressione Lineare Attori "
   ]
  },
  {
   "cell_type": "code",
   "execution_count": 7,
   "id": "44b78830",
   "metadata": {},
   "outputs": [
    {
     "name": "stdout",
     "output_type": "stream",
     "text": [
      "Intercept:  7.985858520086611\n",
      "Coefficients:\n"
     ]
    },
    {
     "data": {
      "text/plain": [
       "[('Aureliano Adami ', -1.892557970281841),\n",
       " ('Livia Adami ', 1.3794954498699292),\n",
       " ('Gabriella', 12.824596887605944),\n",
       " ('Cugino Spadino Boris', -20.916030986503362),\n",
       " ('Madre Samurai', -2.0981582437763517),\n",
       " ('Mara Guagli (Compagna Franco)', 10.391450310725318),\n",
       " ('Cardinale Nascari', 1.0330975692516662)]"
      ]
     },
     "execution_count": 7,
     "metadata": {},
     "output_type": "execute_result"
    }
   ],
   "source": [
    "from sklearn.model_selection import train_test_split\n",
    "\n",
    "import pandas\n",
    "from sklearn import linear_model\n",
    "from sklearn.linear_model import LinearRegression\n",
    "\n",
    "#variabili indipendenti \n",
    "X_attori = a_l_p[[\"Aureliano Adami \", \"Livia Adami \",\n",
    "                  \"Gabriella\" , \"Cugino Spadino Boris\",\n",
    "                  \"Madre Samurai\",\"Mara Guagli (Compagna Franco)\",\"Cardinale Nascari\" ]]\n",
    "#variabile dipendente\n",
    "y = a_l_p[\"Indice IMDb\"]\n",
    "\n",
    "#Creazione dataset di traning e di testing \n",
    "x_train_a, x_test_a, y_train_a, y_test_a = train_test_split(X_attori, y, test_size = 0.2, random_state = 100)\n",
    "\n",
    "#creazione modello lineare \n",
    "mlra = LinearRegression()  \n",
    "mlra.fit(x_train_a, y_train_a)\n",
    "#risultati modello \n",
    "print(\"Intercept: \", mlra.intercept_)\n",
    "print(\"Coefficients:\")\n",
    "list(zip(X_attori, mlra.coef_))"
   ]
  },
  {
   "cell_type": "code",
   "execution_count": 8,
   "id": "46dce16b",
   "metadata": {},
   "outputs": [
    {
     "name": "stdout",
     "output_type": "stream",
     "text": [
      "Prediction for test set: [8.40215054 7.85705494 7.7191026 ]\n"
     ]
    },
    {
     "data": {
      "text/html": [
       "<div>\n",
       "<style scoped>\n",
       "    .dataframe tbody tr th:only-of-type {\n",
       "        vertical-align: middle;\n",
       "    }\n",
       "\n",
       "    .dataframe tbody tr th {\n",
       "        vertical-align: top;\n",
       "    }\n",
       "\n",
       "    .dataframe thead th {\n",
       "        text-align: right;\n",
       "    }\n",
       "</style>\n",
       "<table border=\"1\" class=\"dataframe\">\n",
       "  <thead>\n",
       "    <tr style=\"text-align: right;\">\n",
       "      <th></th>\n",
       "      <th>Actual value</th>\n",
       "      <th>Predicted value</th>\n",
       "    </tr>\n",
       "  </thead>\n",
       "  <tbody>\n",
       "    <tr>\n",
       "      <th>9</th>\n",
       "      <td>8.5</td>\n",
       "      <td>8.402151</td>\n",
       "    </tr>\n",
       "    <tr>\n",
       "      <th>6</th>\n",
       "      <td>7.8</td>\n",
       "      <td>7.857055</td>\n",
       "    </tr>\n",
       "    <tr>\n",
       "      <th>1</th>\n",
       "      <td>7.8</td>\n",
       "      <td>7.719103</td>\n",
       "    </tr>\n",
       "  </tbody>\n",
       "</table>\n",
       "</div>"
      ],
      "text/plain": [
       "   Actual value  Predicted value\n",
       "9           8.5         8.402151\n",
       "6           7.8         7.857055\n",
       "1           7.8         7.719103"
      ]
     },
     "execution_count": 8,
     "metadata": {},
     "output_type": "execute_result"
    }
   ],
   "source": [
    "#predizione del modello di test \n",
    "y_pred_mlra= mlra.predict(x_test_a)\n",
    "#Print valori previsti\n",
    "print(\"Prediction for test set: {}\".format(y_pred_mlra))\n",
    "\n",
    "#Valori attesi e valori predetti\n",
    "mlr_diffa = pd.DataFrame({'Actual value': y_test_a, 'Predicted value': y_pred_mlra})\n",
    "mlr_diffa.head()"
   ]
  },
  {
   "cell_type": "code",
   "execution_count": 9,
   "id": "d7195f70",
   "metadata": {},
   "outputs": [
    {
     "name": "stdout",
     "output_type": "stream",
     "text": [
      "R squared: 97.13\n",
      "Mean Absolute Error: 0.07860059757252458\n",
      "Mean Square Error: 0.0064580569786674355\n",
      "Root Mean Square Error: 0.08036203692457923\n"
     ]
    }
   ],
   "source": [
    "#Valutazione modello \n",
    "from sklearn import metrics\n",
    "meanAbErra = metrics.mean_absolute_error(y_test_a, y_pred_mlra) #calcolo errore assoluto medio \n",
    "meanSqErra = metrics.mean_squared_error(y_test_a, y_pred_mlra) #calcolo errore quadratico medio \n",
    "rootMeanSqErra = np.sqrt(metrics.mean_squared_error(y_test_a, y_pred_mlra)) #calcolo radice dell'errore quadratico medio\n",
    "print('R squared: {:.2f}'.format(mlra.score(X_attori,y)*100))\n",
    "print('Mean Absolute Error:', meanAbErra)\n",
    "print('Mean Square Error:', meanSqErra)\n",
    "print('Root Mean Square Error:', rootMeanSqErra)"
   ]
  },
  {
   "cell_type": "markdown",
   "id": "335a77e3",
   "metadata": {},
   "source": [
    "\n",
    "# Regressione Lineare Location "
   ]
  },
  {
   "cell_type": "code",
   "execution_count": 10,
   "id": "ff982d49",
   "metadata": {
    "scrolled": true
   },
   "outputs": [
    {
     "name": "stdout",
     "output_type": "stream",
     "text": [
      "Intercept:  7.849106350856024\n",
      "Coefficients:\n"
     ]
    },
    {
     "data": {
      "text/plain": [
       "[('Casa contessa ', 8.020622608823201),\n",
       " ('Chiosco Adami', 1.1113770927430933),\n",
       " ('Vela di Calatrua', 3.7117737322078614),\n",
       " ('Eur', -18.92584003350387),\n",
       " ('Palestra Aureliano', 29.92311300446362),\n",
       " ('Roma centro ', -1.6287292870284338)]"
      ]
     },
     "execution_count": 10,
     "metadata": {},
     "output_type": "execute_result"
    }
   ],
   "source": [
    "from sklearn.model_selection import train_test_split\n",
    "\n",
    "import pandas\n",
    "from sklearn import linear_model\n",
    "\n",
    "X_location = a_l_p[[\"Casa contessa \" ,\"Chiosco Adami\",\n",
    "                    \"Vela di Calatrua\",\"Eur\",\n",
    "                    \"Palestra Aureliano\",\"Roma centro \"]]\n",
    "y = a_l_p[\"Indice IMDb\"]\n",
    "\n",
    "#divisione dataset\n",
    "x_train_l, x_test_l, y_train_l, y_test_l = train_test_split(X_location, y, test_size = 0.2, random_state = 100)\n",
    "#creazione modello lineare \n",
    "mlrl = LinearRegression()  \n",
    "mlrl.fit(x_train_l, y_train_l)\n",
    "#risultati modello \n",
    "print(\"Intercept: \", mlrl.intercept_)\n",
    "print(\"Coefficients:\")\n",
    "list(zip(X_location, mlrl.coef_))"
   ]
  },
  {
   "cell_type": "code",
   "execution_count": 11,
   "id": "3e71f8bd",
   "metadata": {},
   "outputs": [
    {
     "name": "stdout",
     "output_type": "stream",
     "text": [
      "Prediction for test set: [7.95863306 7.1562085  7.87823529]\n"
     ]
    },
    {
     "data": {
      "text/html": [
       "<div>\n",
       "<style scoped>\n",
       "    .dataframe tbody tr th:only-of-type {\n",
       "        vertical-align: middle;\n",
       "    }\n",
       "\n",
       "    .dataframe tbody tr th {\n",
       "        vertical-align: top;\n",
       "    }\n",
       "\n",
       "    .dataframe thead th {\n",
       "        text-align: right;\n",
       "    }\n",
       "</style>\n",
       "<table border=\"1\" class=\"dataframe\">\n",
       "  <thead>\n",
       "    <tr style=\"text-align: right;\">\n",
       "      <th></th>\n",
       "      <th>Actual value</th>\n",
       "      <th>Predicted value</th>\n",
       "    </tr>\n",
       "  </thead>\n",
       "  <tbody>\n",
       "    <tr>\n",
       "      <th>9</th>\n",
       "      <td>8.5</td>\n",
       "      <td>7.958633</td>\n",
       "    </tr>\n",
       "    <tr>\n",
       "      <th>6</th>\n",
       "      <td>7.8</td>\n",
       "      <td>7.156209</td>\n",
       "    </tr>\n",
       "    <tr>\n",
       "      <th>1</th>\n",
       "      <td>7.8</td>\n",
       "      <td>7.878235</td>\n",
       "    </tr>\n",
       "  </tbody>\n",
       "</table>\n",
       "</div>"
      ],
      "text/plain": [
       "   Actual value  Predicted value\n",
       "9           8.5         7.958633\n",
       "6           7.8         7.156209\n",
       "1           7.8         7.878235"
      ]
     },
     "execution_count": 11,
     "metadata": {},
     "output_type": "execute_result"
    }
   ],
   "source": [
    "#predizione del modello di test \n",
    "y_pred_mlrl= mlrl.predict(x_test_l)\n",
    "\n",
    "#Valori Pevisti \n",
    "print(\"Prediction for test set: {}\".format(y_pred_mlrl))\n",
    "\n",
    "#Valori attesi e valori previsti \n",
    "mlr_diffl = pd.DataFrame({'Actual value': y_test_l, 'Predicted value': y_pred_mlrl})\n",
    "mlr_diffl.head()"
   ]
  },
  {
   "cell_type": "code",
   "execution_count": 12,
   "id": "499d1f8d",
   "metadata": {},
   "outputs": [
    {
     "name": "stdout",
     "output_type": "stream",
     "text": [
      "R squared: 11.88\n",
      "Mean Absolute Error: 0.42113124440607513\n",
      "Mean Square Error: 0.23788880644867508\n",
      "Root Mean Square Error: 0.48773846111279257\n"
     ]
    }
   ],
   "source": [
    "#Valutazione modello \n",
    "from sklearn import metrics\n",
    "meanAbErrl = metrics.mean_absolute_error(y_test_l, y_pred_mlrl) #calcolo errore assoluto medio \n",
    "meanSqErrl = metrics.mean_squared_error(y_test_l, y_pred_mlrl) #calcolo errore quadratico medio \n",
    "rootMeanSqErrl = np.sqrt(metrics.mean_squared_error(y_test_l, y_pred_mlrl))  #calcolo radice dell'errore quadratico medio\n",
    "print('R squared: {:.2f}'.format(mlrl.score(X_location,y)*100))\n",
    "print('Mean Absolute Error:', meanAbErrl)\n",
    "print('Mean Square Error:', meanSqErrl)\n",
    "print('Root Mean Square Error:', rootMeanSqErrl)"
   ]
  },
  {
   "cell_type": "code",
   "execution_count": null,
   "id": "a55a56cb",
   "metadata": {},
   "outputs": [],
   "source": []
  }
 ],
 "metadata": {
  "kernelspec": {
   "display_name": "Python 3",
   "language": "python",
   "name": "python3"
  },
  "language_info": {
   "codemirror_mode": {
    "name": "ipython",
    "version": 3
   },
   "file_extension": ".py",
   "mimetype": "text/x-python",
   "name": "python",
   "nbconvert_exporter": "python",
   "pygments_lexer": "ipython3",
   "version": "3.8.8"
  }
 },
 "nbformat": 4,
 "nbformat_minor": 5
}
